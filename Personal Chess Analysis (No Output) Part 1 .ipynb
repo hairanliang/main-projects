{
 "cells": [
  {
   "cell_type": "code",
   "execution_count": null,
   "id": "75bb2766",
   "metadata": {},
   "outputs": [],
   "source": [
    "# Hi, my name is Hairan Liang and I am a Chess National Master in both the US and Canada. Internationally, I am a \n",
    "# Fide Candidate Master. Chess has played a large role in my life, and since I moved into data science, I wanted to \n",
    "# combine these two interests. During Winter Break, I decided to embark on a quest to find patterns in my chess games.\n",
    "\n",
    "# Welcome to my Personal Chess Analysis Data Science Project. The goal of this project is to find patterns and \n",
    "# weaknesses in my games, such as chess openings I struggle against. This is Part 1 of my project, and in Part 1\n",
    "# I am exploring a dataset of games I played on chess.com. I want to be able to build my own dataset using chess pgn\n",
    "# data. I used Part 1 of this project as a way to sharpen my data cleaning skills as I am working with a messy and\n",
    "# unfamiliar dataset and also practice semi-complex Python functions. \n",
    "\n",
    "# To get my data, I used Reddit User johndoe3991's program to download all of my pgns. The below code block is a link \n",
    "# to the program and my personal modifications to it.\n"
   ]
  },
  {
   "cell_type": "code",
   "execution_count": null,
   "id": "6086517e",
   "metadata": {},
   "outputs": [],
   "source": [
    "# Source: https://www.reddit.com/r/chess/comments/9ifkaq/how_i_downloaded_all_my_chesscom_games_using/\n",
    "# chess.com API -> https://www.chess.com/news/view/published-data-api\n",
    "# The API has been used to download monthly archives for a user using a Python3 program.\n",
    "# This program works as of 24/09/2018\n",
    "\n",
    "# import urllib\n",
    "# import urllib.request\n",
    "\n",
    "\n",
    "# username = \"335394862\" # change \n",
    "# baseUrl = \"https://api.chess.com/pub/player/\" + username + \"/games/\"\n",
    "# archivesUrl = baseUrl + \"archives\"\n",
    "\n",
    "# #read the archives url and store in a list\n",
    "# f = urllib.request.urlopen(archivesUrl)\n",
    "# archives = f.read().decode(\"utf-8\")\n",
    "# archives = archives.replace(\"{\\\"archives\\\":[\\\"\", \"\\\",\\\"\")\n",
    "# archivesList = archives.split(\"\\\",\\\"\" + baseUrl)\n",
    "# archivesList[len(archivesList)-1] = archivesList[len(archivesList)-1].rstrip(\"\\\"]}\")\n",
    "\n",
    "# #download all the archives\n",
    "# for i in range(len(archivesList)-1):\n",
    "#     url = baseUrl + archivesList[i+1] + \"/pgn\"\n",
    "#     filename = archivesList[i+1].replace(\"/\", \"-\")\n",
    "#     urllib.request.urlretrieve(url, \"/Users/hairanliang/Documents/Chess.com/MyGames\" + filename + \".pgn\") #change\n",
    "#     print(filename + \".pgn has been downloaded.\")\n",
    "# print (\"All files have been downloaded.\")"
   ]
  },
  {
   "cell_type": "code",
   "execution_count": null,
   "id": "b1680ee0",
   "metadata": {},
   "outputs": [],
   "source": [
    "# Miscellaneous Notes During Data Cleaning:\n",
    "# I noticed that there were games where no move was played before a player resigned, and these games for some reason \n",
    "# led to the dataframe to be offset and thus the columns would be offset. To solve this, I manually searched \"Current \n",
    "# Position\" which helped me manually delete all these games from the pgn (in total 16) as these games had a unique \n",
    "# value for their \"Current Position\" value"
   ]
  },
  {
   "cell_type": "code",
   "execution_count": null,
   "id": "1f11160e",
   "metadata": {},
   "outputs": [],
   "source": [
    "# Import the chess modules to read pgns in python\n",
    "import chess\n",
    "import chess.pgn \n",
    "import cv2\n",
    "import os\n",
    "\n",
    "chessGamesList = [] # List that will hold the chess game information\n",
    "\n",
    "# load_pgns_from_folder(\"/Users/hairanliang/Documents/Chess.com/MyGames\")\n",
    "pgn = open('/Users/hairanliang/Documents/Chess.com/MyGames/allPgns.txt', 'r')"
   ]
  },
  {
   "cell_type": "code",
   "execution_count": null,
   "id": "92763615",
   "metadata": {},
   "outputs": [],
   "source": [
    "for i in pgn:\n",
    "    chessGamesList.append(i) # Getting each line of the pgn document one by one\n",
    "    \n"
   ]
  },
  {
   "cell_type": "code",
   "execution_count": null,
   "id": "88b3ab65",
   "metadata": {},
   "outputs": [],
   "source": [
    "chessGamesList[22] # In index 22 of the list, it holds the game notation for game 1.  "
   ]
  },
  {
   "cell_type": "code",
   "execution_count": null,
   "id": "511c442c",
   "metadata": {},
   "outputs": [],
   "source": [
    "# Exploratory Data Analysis\n",
    "\n",
    "# Look at basic things like my winrate as white and black. Then look at average number of moves per game, per win, \n",
    "# per loss, per draw, as white, as black, etc.\n",
    "# Then, I can start playing with date-time data by looking at which days of the week I play better, which time of day,\n",
    "# etc"
   ]
  },
  {
   "cell_type": "code",
   "execution_count": null,
   "id": "554ad540",
   "metadata": {},
   "outputs": [],
   "source": [
    "# First, I have to create my DataFrame. I will use a Pandas Dataframe for this\n",
    "\n",
    "# Using list comprehension to create a 2d list, and then converting it into a pandas DataFrame later\n",
    "twoDArray = [[''] * 25 for i in range(5000)]\n",
    "\n",
    "# Filling up my 2d list with the chessGamesList\n",
    "counter = 0\n",
    "for row in range(0, len(chessGamesList)):\n",
    "    holder = row # Have to use the holder since the row value in chessGamesList is getting rewritten in the line below\n",
    "    row = row % 25 # Every 25 indices in chessGamesList, it moves on to the next game in the dataset\n",
    "    twoDArray[counter][row] = chessGamesList[holder];\n",
    "    if row == 0: # Once reaching the next game, have to move to the row below to input next values \n",
    "        counter = counter + 1\n",
    "    row += 1\n",
    "\n",
    "\n"
   ]
  },
  {
   "cell_type": "code",
   "execution_count": null,
   "id": "db3e7ab5",
   "metadata": {},
   "outputs": [],
   "source": [
    "twoDArray[3800] # This holds all the information from the initial dataset for the longest game I've played (120 moves)"
   ]
  },
  {
   "cell_type": "code",
   "execution_count": null,
   "id": "829e7b2b",
   "metadata": {},
   "outputs": [],
   "source": [
    "# Building my dataframe using twoDArray. Column names are based on the name convention from the dataset\n",
    "\n",
    "import pandas as pd\n",
    "df1 = pd.DataFrame(data = twoDArray, columns = ['Event', 'Site', 'Date', 'Round', 'White', 'Black', 'Result', 'Position', 'Timezone', \n",
    "                              'ECO', 'ECOUrl', 'UTCDate', 'UTCTime', 'WhiteElo', 'BlackElo', 'TimeControl', 'Termination', 'StartTime',\n",
    "                              'EndDate', 'EndTime', 'Link', 'Null1', 'Moves', 'Null2', 'Null3'])\n",
    "pd.set_option('display.max_rows', None)\n",
    "pd.set_option('display.max_columns', None)\n",
    "df1.head(25)\n",
    "\n"
   ]
  },
  {
   "cell_type": "code",
   "execution_count": null,
   "id": "b87517a1",
   "metadata": {},
   "outputs": [],
   "source": [
    "# Now, I will get rid of all Null columns. There is also a problem with the first row, but I will fix that later\n",
    "\n",
    "df2 = df1.drop(columns = ['Null1', 'Null2', 'Null3'])"
   ]
  },
  {
   "cell_type": "code",
   "execution_count": null,
   "id": "e9963178",
   "metadata": {},
   "outputs": [],
   "source": [
    "df2.head(25)"
   ]
  },
  {
   "cell_type": "code",
   "execution_count": null,
   "id": "024eec2d",
   "metadata": {},
   "outputs": [],
   "source": [
    "# Now, drop all rows with NaN values. First, I will convert all the empty strings\n",
    "\n",
    "import numpy as np\n",
    "df2.replace('', np.nan, inplace=True)\n",
    "df2 = df2.drop([0]).reset_index(drop=True)\n",
    "df2.iat[4445, 0] = '[Event \"Live Chess\"]\\n' # Small edits to clean up the dataset "
   ]
  },
  {
   "cell_type": "code",
   "execution_count": null,
   "id": "92fd23c9",
   "metadata": {},
   "outputs": [],
   "source": [
    "df3 = df2.dropna(axis='rows') # Drop all rows that have any null values in them"
   ]
  },
  {
   "cell_type": "code",
   "execution_count": null,
   "id": "cc38bc47",
   "metadata": {},
   "outputs": [],
   "source": [
    "df3.head(25) # Final DataFrame that has all the information and no NaN values"
   ]
  },
  {
   "cell_type": "code",
   "execution_count": null,
   "id": "c56293d8",
   "metadata": {},
   "outputs": [],
   "source": [
    "terminationSeries = pd.Series(df3['Termination'].values) # Building a Series with the Termination column\n",
    "# The termination column tells who wins, or if it was a draw."
   ]
  },
  {
   "cell_type": "code",
   "execution_count": null,
   "id": "4fefea79",
   "metadata": {},
   "outputs": [],
   "source": [
    "terminationSeries"
   ]
  },
  {
   "cell_type": "code",
   "execution_count": null,
   "id": "1cc4a1ad",
   "metadata": {},
   "outputs": [],
   "source": [
    "terminationBool = terminationSeries.str.contains(pat = '335394862') # terminationBool is essentially my \"winBool\", so\n",
    "# it will hold a logical array of the games I won. This is based on if my username is in the Termination value."
   ]
  },
  {
   "cell_type": "code",
   "execution_count": null,
   "id": "124af8b9",
   "metadata": {},
   "outputs": [],
   "source": [
    "terminationBool"
   ]
  },
  {
   "cell_type": "code",
   "execution_count": null,
   "id": "4e8fe60e",
   "metadata": {},
   "outputs": [],
   "source": [
    "# To get losses, it is more difficult, so what I'll do is check for the draws and then the remaining ones must be losses.\n",
    "\n",
    "drawBool = terminationSeries.str.contains(pat = 'Game drawn')\n",
    "drawBool"
   ]
  },
  {
   "cell_type": "code",
   "execution_count": null,
   "id": "e92c5a7e",
   "metadata": {},
   "outputs": [],
   "source": [
    "lossBool = ~drawBool & ~terminationBool # Losses are when its neither a draw nor a win\n",
    "lossBool"
   ]
  },
  {
   "cell_type": "code",
   "execution_count": null,
   "id": "cd9fd3ac",
   "metadata": {},
   "outputs": [],
   "source": [
    "winRate = sum(bool(x) for x in terminationBool) / len(terminationBool) \n",
    "winRate # This is my overall winrate. Technically, it's not my true \"winrate\" because I haven't factored in draws"
   ]
  },
  {
   "cell_type": "code",
   "execution_count": null,
   "id": "05fe7379",
   "metadata": {},
   "outputs": [],
   "source": [
    "drawRate = sum(bool(x) for x in drawBool) / len(terminationBool)\n",
    "drawRate"
   ]
  },
  {
   "cell_type": "code",
   "execution_count": null,
   "id": "09c2cedd",
   "metadata": {},
   "outputs": [],
   "source": [
    "lossRate = sum(bool(x) for x in lossBool) / len(terminationBool)\n",
    "lossRate"
   ]
  },
  {
   "cell_type": "code",
   "execution_count": null,
   "id": "785d1bd3",
   "metadata": {},
   "outputs": [],
   "source": [
    "# Now, let's find my winrate as white and as black\n",
    "\n",
    "# Boolean array for games where I am white\n",
    "\n",
    "whiteSeries = pd.Series(df3['White'].values) # Using the white column of the Dataframe\n",
    "whiteBool = whiteSeries.str.contains(pat = '335394862') # Getting a boolean list for where I played white\n",
    "\n"
   ]
  },
  {
   "cell_type": "code",
   "execution_count": null,
   "id": "17d22561",
   "metadata": {},
   "outputs": [],
   "source": [
    "whiteBool # In the first 4 games, I played white, then I played black twice... etc"
   ]
  },
  {
   "cell_type": "code",
   "execution_count": null,
   "id": "67570c8b",
   "metadata": {},
   "outputs": [],
   "source": [
    "whiteTermination = terminationSeries[whiteBool] # Using the boolean list to create a termination series with only my \n",
    "# games as white"
   ]
  },
  {
   "cell_type": "code",
   "execution_count": null,
   "id": "835bdfe9",
   "metadata": {},
   "outputs": [],
   "source": [
    "whiteTermination # These are the termination values for only the games where I played white"
   ]
  },
  {
   "cell_type": "code",
   "execution_count": null,
   "id": "1abc516b",
   "metadata": {},
   "outputs": [],
   "source": [
    "whiteTerminationBool = whiteTermination.str.contains(pat = '335394862') # Only the games where I won as white\n",
    "whiteWinrate = sum(bool(x) for x in whiteTerminationBool) / len(whiteTerminationBool) \n",
    "# Number of games I won as white divided by number of games I played as white \n",
    "whiteWinrate"
   ]
  },
  {
   "cell_type": "code",
   "execution_count": null,
   "id": "66d2303f",
   "metadata": {},
   "outputs": [],
   "source": [
    "# Now, I repeat this for the black games\n",
    "\n",
    "blackSeries = pd.Series(df3['Black'].values) \n",
    "blackBool = blackSeries.str.contains(pat = '335394862')\n",
    "\n",
    "blackTermination = terminationSeries[blackBool] \n",
    "\n",
    "blackTerminationBool = blackTermination.str.contains(pat = '335394862') # Only the white games where I won (white game = I'm playing white)\n",
    "blackWinrate = sum(bool(x) for x in blackTerminationBool) / len(blackTerminationBool) \n",
    "blackWinrate # Unsurprisingly, my winrate as white is higher than as black: white has an inherent advantage"
   ]
  },
  {
   "cell_type": "code",
   "execution_count": null,
   "id": "f7daa031",
   "metadata": {},
   "outputs": [],
   "source": [
    "blackTerminationBool"
   ]
  },
  {
   "cell_type": "code",
   "execution_count": null,
   "id": "961c326f",
   "metadata": {},
   "outputs": [],
   "source": [
    "# Now I want to find out if I have a higher win-rate when I play black against 1. e4 or 1. d4 \n",
    "# My gut says that I do much better against e4\n",
    "\n",
    "movesSeries = pd.Series(df3['Moves'].values) \n",
    "\n",
    "e4Bool = movesSeries.str.contains(pat = '1\\. e4')\n",
    "e4Bool"
   ]
  },
  {
   "cell_type": "code",
   "execution_count": null,
   "id": "75bc3fec",
   "metadata": {},
   "outputs": [],
   "source": [
    "e4Termination = terminationSeries[e4Bool] # The termination column for games that started as 1. e4\n",
    "e4Termination"
   ]
  },
  {
   "cell_type": "code",
   "execution_count": null,
   "id": "6c0c7287",
   "metadata": {},
   "outputs": [],
   "source": [
    "e4TerminationBool = e4Termination.str.contains(pat = '335394862')\n",
    "e4TerminationBool"
   ]
  },
  {
   "cell_type": "code",
   "execution_count": null,
   "id": "ce9b8937",
   "metadata": {},
   "outputs": [],
   "source": [
    "blackTerminationBool"
   ]
  },
  {
   "cell_type": "code",
   "execution_count": null,
   "id": "d8c64bfc",
   "metadata": {},
   "outputs": [],
   "source": [
    "e4BlackTerminationBool = e4TerminationBool & blackTerminationBool\n",
    "e4BlackTerminationBool # The only true is if both it was an e4 game AND I won the game as black\n",
    "# (True + True = True and anything else is False)"
   ]
  },
  {
   "cell_type": "code",
   "execution_count": null,
   "id": "9743c249",
   "metadata": {},
   "outputs": [],
   "source": [
    "blackAndE4 = e4Bool & blackBool\n",
    "blackAndE4\n"
   ]
  },
  {
   "cell_type": "code",
   "execution_count": null,
   "id": "f152effb",
   "metadata": {},
   "outputs": [],
   "source": [
    "blackAndE4WR = sum(bool(x) for x in e4BlackTerminationBool) / sum(bool(x) for x in blackAndE4) \n",
    "blackAndE4WR # My winrate as black against e4 is 0.51, so I do pretty well against 1.e4"
   ]
  },
  {
   "cell_type": "code",
   "execution_count": null,
   "id": "d5dceeed",
   "metadata": {},
   "outputs": [],
   "source": [
    "d4Bool = movesSeries.str.contains(pat = '1\\. d4')\n",
    "d4Termination = terminationSeries[d4Bool]\n",
    "d4TerminationBool = d4Termination.str.contains(pat = '335394862')\n",
    "d4BlackTerminationBool = d4TerminationBool & blackTerminationBool\n",
    "blackAndD4 = d4Bool & blackBool\n",
    "blackAndD4WR = sum(bool(x) for x in d4BlackTerminationBool) / sum(bool(x) for x in blackAndD4) \n",
    "blackAndD4WR\n",
    "\n",
    "# As I expected, my play against d4 is significantly worse: I have a 47.6% winrate as black compared to 51.3% against\n",
    "# e4. I'll now check two less popular but possible moves 1.c4 and 1.Nf3"
   ]
  },
  {
   "cell_type": "code",
   "execution_count": null,
   "id": "0e0ac16b",
   "metadata": {},
   "outputs": [],
   "source": [
    "c4Bool = movesSeries.str.contains(pat = '1\\. c4')\n",
    "c4Termination = terminationSeries[c4Bool]\n",
    "c4TerminationBool = c4Termination.str.contains(pat = '335394862')\n",
    "c4BlackTerminationBool = c4TerminationBool & blackTerminationBool\n",
    "blackAndC4 = c4Bool & blackBool\n",
    "blackAndC4WR = sum(bool(x) for x in c4BlackTerminationBool) / sum(bool(x) for x in blackAndC4) \n",
    "blackAndC4WR\n",
    "\n",
    "# Surprisingly, I perform HORRIBLY against c4. Maybe it's time for me to freshen up on my c4 opening theory"
   ]
  },
  {
   "cell_type": "code",
   "execution_count": null,
   "id": "05b39902",
   "metadata": {},
   "outputs": [],
   "source": [
    "nf3Bool = movesSeries.str.contains(pat = '1\\. Nf3')\n",
    "nf3Termination = terminationSeries[nf3Bool]\n",
    "nf3TerminationBool = nf3Termination.str.contains(pat = '335394862')\n",
    "nf3BlackTerminationBool = nf3TerminationBool & blackTerminationBool\n",
    "blackAndNf3 = nf3Bool & blackBool\n",
    "blackAndNf3WR = sum(bool(x) for x in nf3BlackTerminationBool) / sum(bool(x) for x in blackAndNf3) \n",
    "blackAndNf3WR"
   ]
  },
  {
   "cell_type": "code",
   "execution_count": null,
   "id": "63f1f367",
   "metadata": {},
   "outputs": [],
   "source": [
    "# Now, I want to find out how I do against black openings when I play 1.e4 as white. My hunch is that I perform best \n",
    "# against the French, then the Caro Kann, then Sicilian, then 1... e5. Let's find out!\n",
    "\n",
    "# I have a bool that checks for 1.e4, and now I need bools that check for 1... e5, 1... c5, 1... c6, 1... e6\n",
    "\n",
    "e5Bool = movesSeries.str.contains(pat = ' 1\\.\\.\\. e5') \n",
    "e5Termination = terminationSeries[e5Bool]\n",
    "e5TerminationBool = e5Termination.str.contains(pat = '335394862')\n",
    "e4E5WhiteTerminationBool = e5TerminationBool & whiteTerminationBool & e4TerminationBool\n",
    "whiteAndE4E5 = e5Bool & whiteBool & e4Bool\n",
    "whiteAndE4E5WR = sum(bool(x) for x in e4E5WhiteTerminationBool) / sum(bool(x) for x in whiteAndE4E5) \n",
    "whiteAndE4E5WR"
   ]
  },
  {
   "cell_type": "code",
   "execution_count": null,
   "id": "04c7e350",
   "metadata": {},
   "outputs": [],
   "source": [
    "sum(bool(x) for x in e4E5WhiteTerminationBool)\n"
   ]
  },
  {
   "cell_type": "code",
   "execution_count": null,
   "id": "bb963cbc",
   "metadata": {},
   "outputs": [],
   "source": [
    "c5Bool = movesSeries.str.contains(pat = ' 1\\.\\.\\. c5')\n",
    "c5Termination = terminationSeries[c5Bool]\n",
    "c5TerminationBool = c5Termination.str.contains(pat = '335394862')\n",
    "e4C5WhiteTerminationBool = c5TerminationBool & whiteTerminationBool & e4TerminationBool\n",
    "whiteAndE4C5 = c5Bool & whiteBool & e4Bool\n",
    "whiteAndE4C5WR = sum(bool(x) for x in e4C5WhiteTerminationBool) / sum(bool(x) for x in whiteAndE4C5) \n",
    "whiteAndE4C5WR"
   ]
  },
  {
   "cell_type": "code",
   "execution_count": null,
   "id": "95079b3d",
   "metadata": {},
   "outputs": [],
   "source": [
    "c6Bool = movesSeries.str.contains(pat = '1\\.\\.\\. c6')\n",
    "c6Termination = terminationSeries[c6Bool]\n",
    "c6TerminationBool = c6Termination.str.contains(pat = '335394862')\n",
    "e4C6WhiteTerminationBool = c6TerminationBool & whiteTerminationBool & e4TerminationBool\n",
    "whiteAndE4C6 = c6Bool & whiteBool & e4Bool\n",
    "whiteAndE4C6WR = sum(bool(x) for x in e4C6WhiteTerminationBool) / sum(bool(x) for x in whiteAndE4C6) \n",
    "whiteAndE4C6WR"
   ]
  },
  {
   "cell_type": "code",
   "execution_count": null,
   "id": "a9a22c33",
   "metadata": {},
   "outputs": [],
   "source": [
    "e6Bool = movesSeries.str.contains(pat = '1\\.\\.\\. e6')\n",
    "e6Termination = terminationSeries[e6Bool]\n",
    "e6TerminationBool = e6Termination.str.contains(pat = '335394862')\n",
    "e4E6WhiteTerminationBool = e6TerminationBool & whiteTerminationBool & e4TerminationBool\n",
    "whiteAndE4E6 = e6Bool & whiteBool & e4Bool\n",
    "whiteAndE4E6WR = sum(bool(x) for x in e4E6WhiteTerminationBool) / sum(bool(x) for x in whiteAndE4E6) \n",
    "whiteAndE4E6WR\n",
    "\n",
    "# Surprisingly, I performed worse comparatively against the French (1.e4 1...e6)\n"
   ]
  },
  {
   "cell_type": "code",
   "execution_count": null,
   "id": "11aaf636",
   "metadata": {},
   "outputs": [],
   "source": [
    "# Now I look at games that pass 40 moves (and to check for this I check for the moves including \"40...\") And, by moves\n",
    "# I mean \"full\" moves, so both white and black made a move. Thus, a game ending with white making the 31st move would\n",
    "# be counted as a 30-move game by my logic\n",
    "\n",
    "past40Bool = movesSeries.str.contains(pat = ' 40\\.\\.\\.')\n",
    "past40Termination = terminationSeries[past40Bool]\n",
    "past40TerminationBool = past40Termination.str.contains(pat = '335394862')\n",
    "past40WR = sum(bool(x) for x in past40TerminationBool) / sum(bool(x) for x in past40Bool) \n",
    "past40WR # My winrate as games go past 40 moves is 45.6%\n",
    "\n",
    "# While I was doing this analysis, I decided to see what the longest game I've ever played was, and I found this was \n",
    "# when pat = \"120...\", so the longest game I've played online on chess.com is 120 moves. This gave me the idea to make\n",
    "# a line plot that tracks the winrate as the number of moves in a game increases. Right now, when I do the winrate\n",
    "# for say 25 moves, it will include games that have AT LEAST 25 moves, not strictly 25 moves. However, I think this \n",
    "# will still be a useful visualization because I can see if I perform worse as games go on."
   ]
  },
  {
   "cell_type": "code",
   "execution_count": null,
   "id": "286b0997",
   "metadata": {},
   "outputs": [],
   "source": [
    "# Initializing the arrays I will use to hold information about number of games that reach x moves (x is variable),\n",
    "# number of games I won that reach x moves, and my winrate after a game reaches x moves.\n",
    "pastMoveTotalArray = []\n",
    "pastMoveWinsArray = []\n",
    "pastMoveWRArray = []\n",
    "\n",
    "for moveNumber in range(1, 121):\n",
    "    pastMoveBool = movesSeries.str.contains(pat = f\"{moveNumber}\\.\\.\") # Logical array of games reaching x moves\n",
    "    pastMoveTermination = terminationSeries[pastMoveBool] # Termination series of games reaching x moves that I won\n",
    "    pastMoveTerminationBool = pastMoveTermination.str.contains(pat = '335394862') # Logical array of games I won reaching x moves\n",
    "    try:\n",
    "        pastMoveTotalGames = sum(bool(x) for x in pastMoveBool)\n",
    "        pastMoveWins = sum(bool(x) for x in pastMoveTerminationBool)\n",
    "        pastMoveWR = pastMoveWins / pastMoveTotalGames \n",
    "    except ZeroDivisionError: \n",
    "        pastMoveWR = 0\n",
    "    # Add numbers to array here that can then be used for line plot.\n",
    "    pastMoveTotalArray.append(pastMoveTotalGames)\n",
    "    pastMoveWinsArray.append(pastMoveWinsArray)\n",
    "    pastMoveWRArray.append(pastMoveWR)\n",
    "print(pastMoveWRArray)"
   ]
  },
  {
   "cell_type": "code",
   "execution_count": null,
   "id": "69fdc6c8",
   "metadata": {},
   "outputs": [],
   "source": [
    "pastMoveTotalArray"
   ]
  },
  {
   "cell_type": "code",
   "execution_count": null,
   "id": "8c6a9924",
   "metadata": {},
   "outputs": [],
   "source": [
    "import seaborn as sb\n",
    "\n",
    "# Make a line plot of how the winrate changes as number of moves changes \n",
    "\n",
    "sb.lineplot(data=pastMoveWRArray)"
   ]
  },
  {
   "cell_type": "code",
   "execution_count": null,
   "id": "0a38bbae",
   "metadata": {},
   "outputs": [],
   "source": [
    "print(pastMoveTotalArray) "
   ]
  },
  {
   "cell_type": "code",
   "execution_count": null,
   "id": "6970de34",
   "metadata": {},
   "outputs": [],
   "source": [
    "pastMoveWRArray[20] # I maintained a above-50 winrate for games that were 21 moves or less. "
   ]
  },
  {
   "cell_type": "code",
   "execution_count": null,
   "id": "03b14269",
   "metadata": {},
   "outputs": [],
   "source": [
    "pastMoveWRArray[21] # Once games were 22 moves or more, I started to have a sub-50 winrate. HOWEVER, it's important\n",
    "# to understand what this really means. This means that in the other 50% of the time, I either lose or DRAW. Because \n",
    "# of the existence of drawn games, it is likely that if I am winning 49.8 % of the time, I am probably winning more\n",
    "# often than losing as a certain percentage of games will be draws"
   ]
  },
  {
   "cell_type": "code",
   "execution_count": null,
   "id": "e1e5ac43",
   "metadata": {},
   "outputs": [],
   "source": [
    "# Now, I want to find things like average number of moves in won games and in lost games. "
   ]
  },
  {
   "cell_type": "code",
   "execution_count": null,
   "id": "540f5920",
   "metadata": {},
   "outputs": [],
   "source": [
    "drawrate = sum(bool(x) for x in drawBool) / len(terminationBool)\n",
    "drawrate"
   ]
  },
  {
   "cell_type": "code",
   "execution_count": null,
   "id": "27593a75",
   "metadata": {},
   "outputs": [],
   "source": [
    "# To get the number of moves in a game, I can start backwards from 120 moves, and if it fulfills it, then I note\n",
    "# its move count and move on to the next game. Then, after I have this huge array, I can add it as a \n",
    "# column to my main dataframe \n",
    "\n",
    "movesSeries"
   ]
  },
  {
   "cell_type": "code",
   "execution_count": null,
   "id": "377d2493",
   "metadata": {},
   "outputs": [],
   "source": [
    "import re\n",
    "movesNumberArray = []\n",
    "for game in movesSeries:\n",
    "    for i in range(120, 0, -1):\n",
    "        if re.search(f\"{i}\\.\\.\", game): # Using regex to search for a move number within the game\n",
    "            movesNumberArray.append(i)\n",
    "            break\n",
    "        if i == 1: # This is an edge case where the game ends after white plays their first move (no case of 1...)\n",
    "            movesNumberArray.append(0) # In this case there was 0 \"full moves\" played in this \"game\" \n",
    "            \n",
    "print(movesNumberArray)       \n",
    "            "
   ]
  },
  {
   "cell_type": "code",
   "execution_count": null,
   "id": "c63ed4d0",
   "metadata": {},
   "outputs": [],
   "source": [
    "len(movesNumberArray) # Ensuring there are the right number of rows to match the rows of our dataframe"
   ]
  },
  {
   "cell_type": "code",
   "execution_count": null,
   "id": "22605f25",
   "metadata": {},
   "outputs": [],
   "source": [
    "df3['Number of Moves'] = movesNumberArray # Adding the move number column to the dataframe\n",
    "df3.head(25)"
   ]
  },
  {
   "cell_type": "code",
   "execution_count": null,
   "id": "f3ede731",
   "metadata": {},
   "outputs": [],
   "source": [
    "# Finding average number of moves in won games (terminationBool is essentially winBool)\n",
    "\n",
    "terminationBool\n",
    "\n"
   ]
  },
  {
   "cell_type": "code",
   "execution_count": null,
   "id": "e86c28fb",
   "metadata": {},
   "outputs": [],
   "source": [
    "numberMovesSeries = pd.Series(df3['Number of Moves'].values)"
   ]
  },
  {
   "cell_type": "code",
   "execution_count": null,
   "id": "29ba4081",
   "metadata": {},
   "outputs": [],
   "source": [
    "numberMovesTerminationSeries = numberMovesSeries[terminationBool] # These are all the move counts of the games I won\n",
    "\n",
    "numberMovesTerminationSeries # First column is index of game and second column is number of moves in the game\n",
    "\n",
    "\n"
   ]
  },
  {
   "cell_type": "code",
   "execution_count": null,
   "id": "5ebd8b7e",
   "metadata": {},
   "outputs": [],
   "source": [
    "# Now, to find the average move count I just take the sum divided by the length of the series\n",
    "\n",
    "avgMoveCountForWins = sum(numberMovesTerminationSeries) / len(numberMovesTerminationSeries)\n",
    "avgMoveCountForWins # It takes me around 36 moves on average to win"
   ]
  },
  {
   "cell_type": "code",
   "execution_count": null,
   "id": "4f886cbd",
   "metadata": {},
   "outputs": [],
   "source": [
    "numberMovesLossSeries = numberMovesSeries[lossBool] # These are all the move counts of the games I won\n",
    "\n",
    "numberMovesLossSeries"
   ]
  },
  {
   "cell_type": "code",
   "execution_count": null,
   "id": "3a40f0eb",
   "metadata": {},
   "outputs": [],
   "source": [
    "avgMoveCountForLosses = sum(numberMovesLossSeries) / len(numberMovesLossSeries)\n",
    "avgMoveCountForLosses # On average, I lose in around 39 moves. This could mean I generally lose in longer games"
   ]
  },
  {
   "cell_type": "code",
   "execution_count": null,
   "id": "079bc7eb",
   "metadata": {},
   "outputs": [],
   "source": [
    "numberMovesDrawSeries = numberMovesSeries[drawBool] # These are all the move counts of the games I drew\n",
    "\n",
    "numberMovesDrawSeries"
   ]
  },
  {
   "cell_type": "code",
   "execution_count": null,
   "id": "21650687",
   "metadata": {},
   "outputs": [],
   "source": [
    "avgMoveCountForDraws = sum(numberMovesDrawSeries) / len(numberMovesDrawSeries)\n",
    "avgMoveCountForDraws # On average, my drawn games take 52 moves. This makes sense because the closer the game is,\n",
    "# the more likely it'll turn into a draw. Games lasting longer are typically closer."
   ]
  },
  {
   "cell_type": "code",
   "execution_count": null,
   "id": "0c54ab0f",
   "metadata": {},
   "outputs": [],
   "source": [
    "# This concludes Part 1 of my Personal Chess Analysis Project. I performed an EDA on my games, where I played around\n",
    "# with a messy dataset and converted it into a usable dataframe. I found out interesting weaknesses in my play, such \n",
    "# as how I struggle against 1.c4 the most as black and 1... e6 as white\n",
    "\n",
    "# In Part 2 of my project, I hope to incorporate machine learning by predicting the outcome of games based on the use \n",
    "# of central squares and rating differential. Rating differential is a topic I find very interesting as it varies \n",
    "# between people: some people perform better against stronger opponents than their rating would suggest, and some \n",
    "# play worse against weaker opponents than their rating would suggest. I hope to create a model that would be trained\n",
    "# on my dataset of games to see if common principles like controlling the center and things like rating differential\n",
    "# play a large role in determining who wins the game."
   ]
  }
 ],
 "metadata": {
  "kernelspec": {
   "display_name": "Python 3 (ipykernel)",
   "language": "python",
   "name": "python3"
  },
  "language_info": {
   "codemirror_mode": {
    "name": "ipython",
    "version": 3
   },
   "file_extension": ".py",
   "mimetype": "text/x-python",
   "name": "python",
   "nbconvert_exporter": "python",
   "pygments_lexer": "ipython3",
   "version": "3.9.7"
  }
 },
 "nbformat": 4,
 "nbformat_minor": 5
}
